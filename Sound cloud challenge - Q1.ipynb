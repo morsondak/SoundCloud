{
 "cells": [
  {
   "cell_type": "markdown",
   "metadata": {},
   "source": [
    "# Question 1"
   ]
  },
  {
   "cell_type": "markdown",
   "metadata": {},
   "source": [
    "### What are the 5 most listened to playlists?"
   ]
  },
  {
   "cell_type": "markdown",
   "metadata": {},
   "source": [
    "\n",
    "SELECT playlist_id, COUNT(DISTINCT user_id) as listen_count  \n",
    "FROM plays  \n",
    "WHERE playlist_id <> 0  \n",
    "GROUP BY playlist_id  \n",
    "ORDER BY listen_count DESC  \n",
    "limit 5 ;\n"
   ]
  },
  {
   "cell_type": "markdown",
   "metadata": {},
   "source": [
    "### Given a user X, what are their 3 most listened to playlists?"
   ]
  },
  {
   "cell_type": "markdown",
   "metadata": {},
   "source": [
    "There is more than one way to solve this problem, according to different definition / decision about how to measure how many time a user has listen to a playlist. \n"
   ]
  },
  {
   "cell_type": "markdown",
   "metadata": {},
   "source": [
    "Option 1 : to give every song in the playlist it's relative weight in the playlist, and to sum over this weights per playlist."
   ]
  },
  {
   "cell_type": "markdown",
   "metadata": {},
   "source": [
    "SELECT plays.playlist_id, SUM( 1.0 / list_count.num_tracks)  \n",
    "FROM plays  \n",
    "JOIN  \n",
    "(SELECT playlist_id, COUNT(*) as num_tracks  \n",
    "FROM listings  \n",
    "GROUP BY playlist_id) as list_count  \n",
    "ON list_count.playlist_id = plays.playlist_id  \n",
    "WHERE user_id = X  \n",
    "AND plays.playlist_id <> 0  \n",
    "GROUP BY 1  \n",
    "ORDER BY 2 DESC  \n",
    "limit 3;\n"
   ]
  },
  {
   "cell_type": "markdown",
   "metadata": {},
   "source": [
    "Option 2 : choose the playlist that the user spent most of his time listening to"
   ]
  },
  {
   "cell_type": "markdown",
   "metadata": {},
   "source": [
    "SELECT playlist_id, SUM(listening_duration)  \n",
    "FROM plays  \n",
    "WHERE user_id = X  \n",
    "AND playlist_id <> 0  \n",
    "GROUP BY 1  \n",
    "ORDER BY 2 DESC  \n",
    "limit 3;"
   ]
  },
  {
   "cell_type": "markdown",
   "metadata": {},
   "source": [
    "### For a user X, recommend 5 playlists they would like that they haven’t heard before\n",
    "\n",
    "The query will retreive playlist that have many songs in common with other playlists the user has listen to, but not include in the list of the playlists the user has listen too"
   ]
  },
  {
   "cell_type": "markdown",
   "metadata": {},
   "source": [
    "SELECT l.playlist_id, COUNT(DISTINCT l.track_id)  \n",
    "FROM plays p, listings l  \n",
    "WHERE p.user_id = X  \n",
    "AND p.track_id = l.track_id  \n",
    "AND p.playlist_id <> l.playlist_id  \n",
    "AND l.playlist_id <> 0\n",
    "AND NOT EXISTS  \n",
    "(SELECT 'X'  \n",
    "FROM plays up  \n",
    "WHERE up.playlist_id = l.playlist_id  \n",
    "AND up.user_id = p.user_id)  \n",
    "GROUP BY 1  \n",
    "ORDER BY 2 DESC  \n",
    "limit 5;"
   ]
  },
  {
   "cell_type": "code",
   "execution_count": null,
   "metadata": {
    "collapsed": true
   },
   "outputs": [],
   "source": []
  }
 ],
 "metadata": {
  "kernelspec": {
   "display_name": "Python 2",
   "language": "python",
   "name": "python2"
  },
  "language_info": {
   "codemirror_mode": {
    "name": "ipython",
    "version": 2
   },
   "file_extension": ".py",
   "mimetype": "text/x-python",
   "name": "python",
   "nbconvert_exporter": "python",
   "pygments_lexer": "ipython2",
   "version": "2.7.11"
  }
 },
 "nbformat": 4,
 "nbformat_minor": 0
}
