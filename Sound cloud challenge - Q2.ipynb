{
 "cells": [
  {
   "cell_type": "markdown",
   "metadata": {},
   "source": [
    "# Quesion 2"
   ]
  },
  {
   "cell_type": "markdown",
   "metadata": {},
   "source": [
    "The Growth team at SoundCloud has the goal of increasing downloads of\n",
    "the SoundCloud mobile apps by 20% within the next 3 months.  \n",
    "The product manager has proposed several new features she believes will drive this growth.  \n",
    "As a data scientist embedded in this team, how would you work with the team’s product manager and engineers to contribute to the most successful outcome?  \n",
    "\n",
    "We’re looking for a short description of any questions you would ask, processes/tools you would\n",
    "put in place, and analyses you would prioritize."
   ]
  },
  {
   "cell_type": "markdown",
   "metadata": {},
   "source": [
    "**1. Business understanding **\n",
    "\n",
    "the first step would be to understand better the project. I would meet with the product manager and try to define the project from a business perspective :\n",
    "1. The business problem - Is the goal is to convert existing sound cloud users to download the app ? Do we want to approach new users that don’t use sound cloud but has other music application ? etc.\n",
    "2. Define project objectives - for example :attract and engage prospects and convert existing website customers. \n",
    "3. The project goal / solution requirements - Improve conversion rate, Increase awareness. What is the reference period? (e.g. increase downloads referring to Q3) and over what period of time (e.g. Q1 2017). We can consider splitting the goal into sub-goals: 5% over the first 2 months, and 10% in the third.\n",
    "\n",
    "**2. Choose Analytic approach **\n",
    "\n",
    "Expressing the business problem in a context of statistical and machine learning techniques. Researching over techniques that can help achieve the expected outcome. For example, logistics regression.\n",
    "\n",
    "**3. Data **\n",
    "\n",
    "After choosing the analytic approach, the next step would be to involve working with the engineering team :\n",
    "1. Defining what data is needed for this approach - for building a logistics regression model we'd need to  find what are the predictive variables of the model that will predict the goal function, which is the number of downloads. The first step would be to define these variables ( users features, application features etc.)  \n",
    "The tools that I work with are Jupyter (Ipython notebook) and coding on python with libraries like matplot for visulalisation, scipy, numpy for statistic and modeling, and the sframe or pandas libraries for exploring the data.\n",
    "2. Collecting and preparing the data - collecting all the data, cleaning the data, different visualisation to understand the data better. Getting data from other sources if needed, feature engineering and etc. The output should be dataset in the exact form that the model can use. \n",
    "3. Modelling - using the past data to train and build the model. use train and test to validate the model. find the most effective features and make suggestions / hypothesis based on these features. For example, to check whether Friday 08:00am is the best time to put a Facebook ad. \n",
    "\n",
    "**4. Evaluation **\n",
    "\n",
    "After gathering some insights from the data, we can construct AB testing to check different hypothesis \n",
    "1. Plan AB testing experiment with the product manager and the development team if needed\n",
    "2. Let the experiment run for a pre-defined period of time\n",
    "3. Gather the data, and try to estimate which of out hypothesis worked best\n",
    "4. Apply the winning strategy to all the users\n",
    "\n",
    "**5. Performance **\n",
    "\n",
    "1. Build reports to track the performance of the new treatment we suggested.  \n",
    "2. Refine the model if needed - but it is important to make sure the model had enough time to “work”.\n",
    "\n",
    "For 4+5 - I am working with python and connection to the Databases to perform queries and collect the user behaviour.\n"
   ]
  },
  {
   "cell_type": "code",
   "execution_count": null,
   "metadata": {
    "collapsed": true
   },
   "outputs": [],
   "source": []
  }
 ],
 "metadata": {
  "kernelspec": {
   "display_name": "Python 2",
   "language": "python",
   "name": "python2"
  },
  "language_info": {
   "codemirror_mode": {
    "name": "ipython",
    "version": 2
   },
   "file_extension": ".py",
   "mimetype": "text/x-python",
   "name": "python",
   "nbconvert_exporter": "python",
   "pygments_lexer": "ipython2",
   "version": "2.7.11"
  }
 },
 "nbformat": 4,
 "nbformat_minor": 0
}
